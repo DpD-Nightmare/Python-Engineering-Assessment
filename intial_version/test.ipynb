{
 "cells": [
  {
   "cell_type": "code",
   "execution_count": 10,
   "id": "c6dcf00b",
   "metadata": {},
   "outputs": [
    {
     "name": "stdout",
     "output_type": "stream",
     "text": [
      "Collecting wget\n",
      "  Downloading wget-3.2.zip (10 kB)\n",
      "  Preparing metadata (setup.py): started\n",
      "  Preparing metadata (setup.py): finished with status 'done'\n",
      "Building wheels for collected packages: wget\n",
      "  Building wheel for wget (setup.py): started\n",
      "  Building wheel for wget (setup.py): finished with status 'done'\n",
      "  Created wheel for wget: filename=wget-3.2-py3-none-any.whl size=9672 sha256=a9be0e74f179716073aff14bd9fdec84315a416eddd190bff7fedc284d441631\n",
      "  Stored in directory: c:\\users\\dhrupad\\appdata\\local\\pip\\cache\\wheels\\04\\5f\\3e\\46cc37c5d698415694d83f607f833f83f0149e49b3af9d0f38\n",
      "Successfully built wget\n",
      "Installing collected packages: wget\n",
      "Successfully installed wget-3.2\n"
     ]
    },
    {
     "name": "stderr",
     "output_type": "stream",
     "text": [
      "WARNING: You are using pip version 22.0.4; however, version 22.2.2 is available.\n",
      "You should consider upgrading via the 'C:\\Users\\Dhrupad\\AppData\\Local\\Programs\\Python\\Python39\\python.exe -m pip install --upgrade pip' command.\n"
     ]
    }
   ],
   "source": [
    "# !pip install xmltodict\n",
    "# !pip install wget"
   ]
  },
  {
   "cell_type": "code",
   "execution_count": 4,
   "id": "0b041bb6",
   "metadata": {},
   "outputs": [],
   "source": [
    "import xmltodict as xtd\n",
    "import os"
   ]
  },
  {
   "cell_type": "code",
   "execution_count": 5,
   "id": "3cde4a12",
   "metadata": {},
   "outputs": [],
   "source": [
    "xml_file_info=\"\"\n",
    "\n",
    "catalog_file= open('task_file.xml','r').read()"
   ]
  },
  {
   "cell_type": "code",
   "execution_count": 6,
   "id": "7524e225",
   "metadata": {},
   "outputs": [],
   "source": [
    "catalog_file = xtd.parse(catalog_file)"
   ]
  },
  {
   "cell_type": "code",
   "execution_count": 7,
   "id": "b737c588",
   "metadata": {},
   "outputs": [],
   "source": [
    "download_dic = catalog_file['response']['result']['doc']"
   ]
  },
  {
   "cell_type": "code",
   "execution_count": 9,
   "id": "689a7b93",
   "metadata": {},
   "outputs": [
    {
     "data": {
      "text/plain": [
       "{'str': [{'@name': 'checksum', '#text': '852b2dde71cf114289ad95ada2a4e406'},\n",
       "  {'@name': 'download_link',\n",
       "   '#text': 'http://firds.esma.europa.eu/firds/DLTINS_20210117_01of01.zip'},\n",
       "  {'@name': 'published_instrument_file_id', '#text': '46015'},\n",
       "  {'@name': 'id', '#text': '46015'},\n",
       "  {'@name': '_root_', '#text': '46015'},\n",
       "  {'@name': 'file_name', '#text': 'DLTINS_20210117_01of01.zip'},\n",
       "  {'@name': 'file_type', '#text': 'DLTINS'}],\n",
       " 'date': [{'@name': 'publication_date', '#text': '2021-01-17T00:00:00Z'},\n",
       "  {'@name': 'timestamp', '#text': '2022-09-27T03:43:32.986Z'}],\n",
       " 'long': {'@name': '_version_', '#text': '1745092831332007938'}}"
      ]
     },
     "execution_count": 9,
     "metadata": {},
     "output_type": "execute_result"
    }
   ],
   "source": [
    "download_dic[0]"
   ]
  },
  {
   "cell_type": "code",
   "execution_count": 6,
   "id": "cc6e1859",
   "metadata": {},
   "outputs": [],
   "source": [
    "download_list=[]\n",
    "for i in range(len(download_dic)):\n",
    "    download_list.append(download_dic[i]['str'][1]['#text'])"
   ]
  },
  {
   "cell_type": "code",
   "execution_count": 8,
   "id": "238b0317",
   "metadata": {},
   "outputs": [
    {
     "data": {
      "text/plain": [
       "['http://firds.esma.europa.eu/firds/DLTINS_20210117_01of01.zip',\n",
       " 'http://firds.esma.europa.eu/firds/DLTINS_20210119_01of02.zip',\n",
       " 'http://firds.esma.europa.eu/firds/DLTINS_20210119_02of02.zip',\n",
       " 'http://firds.esma.europa.eu/firds/DLTINS_20210118_01of01.zip']"
      ]
     },
     "execution_count": 8,
     "metadata": {},
     "output_type": "execute_result"
    }
   ],
   "source": [
    "download_list"
   ]
  },
  {
   "cell_type": "code",
   "execution_count": 11,
   "id": "5cfc86f9",
   "metadata": {},
   "outputs": [],
   "source": [
    "import wget"
   ]
  },
  {
   "cell_type": "code",
   "execution_count": 13,
   "id": "afdabd04",
   "metadata": {},
   "outputs": [
    {
     "name": "stdout",
     "output_type": "stream",
     "text": [
      "\r",
      "  0% [                                                                          ]       0 / 4434514\r",
      "  0% [                                                                          ]    8192 / 4434514\r",
      "  0% [                                                                          ]   16384 / 4434514\r",
      "  0% [                                                                          ]   24576 / 4434514\r",
      "  0% [                                                                          ]   32768 / 4434514\r",
      "  0% [                                                                          ]   40960 / 4434514\r",
      "  1% [                                                                          ]   49152 / 4434514\r",
      "  1% [                                                                          ]   57344 / 4434514\r",
      "  1% [.                                                                         ]   65536 / 4434514\r",
      "  1% [.                                                                         ]   73728 / 4434514\r",
      "  1% [.                                                                         ]   81920 / 4434514\r",
      "  2% [.                                                                         ]   90112 / 4434514\r",
      "  2% [.                                                                         ]   98304 / 4434514\r",
      "  2% [.                                                                         ]  106496 / 4434514\r",
      "  2% [.                                                                         ]  114688 / 4434514\r",
      "  2% [..                                                                        ]  122880 / 4434514\r",
      "  2% [..                                                                        ]  131072 / 4434514\r",
      "  3% [..                                                                        ]  139264 / 4434514\r",
      "  3% [..                                                                        ]  147456 / 4434514\r",
      "  3% [..                                                                        ]  155648 / 4434514\r",
      "  3% [..                                                                        ]  163840 / 4434514\r",
      "  3% [..                                                                        ]  172032 / 4434514\r",
      "  4% [...                                                                       ]  180224 / 4434514\r",
      "  4% [...                                                                       ]  188416 / 4434514\r",
      "  4% [...                                                                       ]  196608 / 4434514\r",
      "  4% [...                                                                       ]  204800 / 4434514\r",
      "  4% [...                                                                       ]  212992 / 4434514\r",
      "  4% [...                                                                       ]  221184 / 4434514\r",
      "  5% [...                                                                       ]  229376 / 4434514\r",
      "  5% [...                                                                       ]  237568 / 4434514\r",
      "  5% [....                                                                      ]  245760 / 4434514\r",
      "  5% [....                                                                      ]  253952 / 4434514\r",
      "  5% [....                                                                      ]  262144 / 4434514\r",
      "  6% [....                                                                      ]  270336 / 4434514\r",
      "  6% [....                                                                      ]  278528 / 4434514\r",
      "  6% [....                                                                      ]  286720 / 4434514\r",
      "  6% [....                                                                      ]  294912 / 4434514\r",
      "  6% [.....                                                                     ]  303104 / 4434514\r",
      "  7% [.....                                                                     ]  311296 / 4434514\r",
      "  7% [.....                                                                     ]  319488 / 4434514\r",
      "  7% [.....                                                                     ]  327680 / 4434514\r",
      "  7% [.....                                                                     ]  335872 / 4434514\r",
      "  7% [.....                                                                     ]  344064 / 4434514\r",
      "  7% [.....                                                                     ]  352256 / 4434514\r",
      "  8% [......                                                                    ]  360448 / 4434514\r",
      "  8% [......                                                                    ]  368640 / 4434514\r",
      "  8% [......                                                                    ]  376832 / 4434514\r",
      "  8% [......                                                                    ]  385024 / 4434514\r",
      "  8% [......                                                                    ]  393216 / 4434514\r",
      "  9% [......                                                                    ]  401408 / 4434514\r",
      "  9% [......                                                                    ]  409600 / 4434514\r",
      "  9% [......                                                                    ]  417792 / 4434514\r",
      "  9% [.......                                                                   ]  425984 / 4434514\r",
      "  9% [.......                                                                   ]  434176 / 4434514\r",
      "  9% [.......                                                                   ]  442368 / 4434514\r",
      " 10% [.......                                                                   ]  450560 / 4434514\r",
      " 10% [.......                                                                   ]  458752 / 4434514\r",
      " 10% [.......                                                                   ]  466944 / 4434514\r",
      " 10% [.......                                                                   ]  475136 / 4434514\r",
      " 10% [........                                                                  ]  483328 / 4434514\r",
      " 11% [........                                                                  ]  491520 / 4434514\r",
      " 11% [........                                                                  ]  499712 / 4434514\r",
      " 11% [........                                                                  ]  507904 / 4434514\r",
      " 11% [........                                                                  ]  516096 / 4434514\r",
      " 11% [........                                                                  ]  524288 / 4434514\r",
      " 12% [........                                                                  ]  532480 / 4434514\r",
      " 12% [.........                                                                 ]  540672 / 4434514\r",
      " 12% [.........                                                                 ]  548864 / 4434514\r",
      " 12% [.........                                                                 ]  557056 / 4434514\r",
      " 12% [.........                                                                 ]  565248 / 4434514\r",
      " 12% [.........                                                                 ]  573440 / 4434514\r",
      " 13% [.........                                                                 ]  581632 / 4434514\r",
      " 13% [.........                                                                 ]  589824 / 4434514\r",
      " 13% [.........                                                                 ]  598016 / 4434514\r",
      " 13% [..........                                                                ]  606208 / 4434514\r",
      " 13% [..........                                                                ]  614400 / 4434514\r",
      " 14% [..........                                                                ]  622592 / 4434514\r",
      " 14% [..........                                                                ]  630784 / 4434514\r",
      " 14% [..........                                                                ]  638976 / 4434514\r",
      " 14% [..........                                                                ]  647168 / 4434514\r",
      " 14% [..........                                                                ]  655360 / 4434514\r",
      " 14% [...........                                                               ]  663552 / 4434514\r",
      " 15% [...........                                                               ]  671744 / 4434514"
     ]
    },
    {
     "name": "stdout",
     "output_type": "stream",
     "text": [
      "100% [..............................................................................] 58679 / 58679"
     ]
    }
   ],
   "source": [
    "for i in download_list:\n",
    "    url = i\n",
    "    response = wget.download(url)"
   ]
  },
  {
   "cell_type": "code",
   "execution_count": 21,
   "id": "2a997b85",
   "metadata": {},
   "outputs": [],
   "source": [
    "#Create a new folder for storing xml files\n",
    "path = 'C:/Users/Dhrupad/Desktop/steel_i/task'\n",
    "\n",
    "try:\n",
    "    os.makedirs(path)\n",
    "except OSError as error:\n",
    "    print(error)"
   ]
  },
  {
   "cell_type": "code",
   "execution_count": 14,
   "id": "464e06df",
   "metadata": {},
   "outputs": [],
   "source": [
    "from zipfile import ZipFile"
   ]
  },
  {
   "cell_type": "code",
   "execution_count": 15,
   "id": "52b076c4",
   "metadata": {},
   "outputs": [],
   "source": [
    "files = ['DLTINS_20210117_01of01.zip','DLTINS_20210118_01of01.zip','DLTINS_20210119_01of02.zip','DLTINS_20210119_02of02.zip']"
   ]
  },
  {
   "cell_type": "code",
   "execution_count": 23,
   "id": "b37bab6a",
   "metadata": {},
   "outputs": [
    {
     "name": "stdout",
     "output_type": "stream",
     "text": [
      "File Name                                             Modified             Size\n",
      "DLTINS_20210117_01of01.xml                     2021-01-17 01:17:12    143278061\n",
      "DLTINS_20210117_01of01.zipExtracting the XML files\n",
      "File Name                                             Modified             Size\n",
      "DLTINS_20210118_01of01.xml                     2021-01-18 01:21:22      1439631\n",
      "DLTINS_20210118_01of01.zipExtracting the XML files\n",
      "File Name                                             Modified             Size\n",
      "DLTINS_20210119_01of02.xml                     2021-01-19 03:21:08    521464972\n",
      "DLTINS_20210119_01of02.zipExtracting the XML files\n",
      "File Name                                             Modified             Size\n",
      "DLTINS_20210119_02of02.xml                     2021-01-19 03:21:56    363082618\n",
      "DLTINS_20210119_02of02.zipExtracting the XML files\n"
     ]
    }
   ],
   "source": [
    "for file in files:\n",
    "    with ZipFile(file,'r') as zip:\n",
    "        zip.printdir()\n",
    "        print(f'{file}Extracting the XML files')\n",
    "        zip.extractall(path='task/')"
   ]
  },
  {
   "cell_type": "code",
   "execution_count": 1,
   "id": "dcfe9202",
   "metadata": {},
   "outputs": [],
   "source": [
    "import zipfile"
   ]
  },
  {
   "cell_type": "code",
   "execution_count": null,
   "id": "5ba881e9",
   "metadata": {},
   "outputs": [],
   "source": []
  }
 ],
 "metadata": {
  "kernelspec": {
   "display_name": "Python 3 (ipykernel)",
   "language": "python",
   "name": "python3"
  },
  "language_info": {
   "codemirror_mode": {
    "name": "ipython",
    "version": 3
   },
   "file_extension": ".py",
   "mimetype": "text/x-python",
   "name": "python",
   "nbconvert_exporter": "python",
   "pygments_lexer": "ipython3",
   "version": "3.9.7"
  }
 },
 "nbformat": 4,
 "nbformat_minor": 5
}
